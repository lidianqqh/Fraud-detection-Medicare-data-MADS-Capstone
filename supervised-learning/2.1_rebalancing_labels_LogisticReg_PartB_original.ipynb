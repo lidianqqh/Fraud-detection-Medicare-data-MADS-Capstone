{
 "cells": [
  {
   "cell_type": "markdown",
   "id": "25286e33",
   "metadata": {},
   "source": [
    "### 1. Read in the enriched PartB data for year 2013 & 2014, only keeping the features in original PartB"
   ]
  },
  {
   "cell_type": "code",
   "execution_count": 1,
   "id": "ce95ca97",
   "metadata": {
    "scrolled": true
   },
   "outputs": [
    {
     "name": "stdout",
     "output_type": "stream",
     "text": [
      "(1847558, 89)\n",
      "(1847558, 40)\n"
     ]
    }
   ],
   "source": [
    "import pandas as pd\n",
    "import numpy as np\n",
    "import os \n",
    "from dateutil.relativedelta import relativedelta\n",
    "import warnings\n",
    "warnings.filterwarnings('ignore')\n",
    "parent = os.path.dirname(os.getcwd())\n",
    "df = pd.read_csv(parent + '/data/year2013_2014_combined_with_labels.csv')\n",
    "print(df.shape)\n",
    "\n",
    "# only keep the features collected from PartB\n",
    "partB_feat = ['Rndrng_NPI', 'Rndrng_Prvdr_Type', 'Rndrng_Prvdr_Gndr',\n",
    "       'Tot_Srvcs_sum', 'Tot_Srvcs_mean', 'Tot_Srvcs_median',\n",
    "       'Tot_Srvcs_std', 'Tot_Srvcs_min', 'Tot_Srvcs_max', 'Tot_Benes_sum',\n",
    "       'Tot_Benes_mean', 'Tot_Benes_median', 'Tot_Benes_std', 'Tot_Benes_min',\n",
    "       'Tot_Benes_max', 'Tot_Bene_Day_Srvcs_sum', 'Tot_Bene_Day_Srvcs_mean',\n",
    "       'Tot_Bene_Day_Srvcs_median', 'Tot_Bene_Day_Srvcs_std',\n",
    "       'Tot_Bene_Day_Srvcs_min', 'Tot_Bene_Day_Srvcs_max',\n",
    "       'Avg_Sbmtd_Chrg_sum', 'Avg_Sbmtd_Chrg_mean', 'Avg_Sbmtd_Chrg_median',\n",
    "       'Avg_Sbmtd_Chrg_std', 'Avg_Sbmtd_Chrg_min', 'Avg_Sbmtd_Chrg_max',\n",
    "       'Avg_Mdcr_Pymt_Amt_sum', 'Avg_Mdcr_Pymt_Amt_mean',\n",
    "       'Avg_Mdcr_Pymt_Amt_median', 'Avg_Mdcr_Pymt_Amt_std',\n",
    "       'Avg_Mdcr_Pymt_Amt_min', 'Avg_Mdcr_Pymt_Amt_max',\n",
    "       'Avg_Mdcr_Stdzd_Amt_sum', 'Avg_Mdcr_Stdzd_Amt_mean',\n",
    "       'Avg_Mdcr_Stdzd_Amt_median', 'Avg_Mdcr_Stdzd_Amt_std',\n",
    "       'Avg_Mdcr_Stdzd_Amt_min', 'Avg_Mdcr_Stdzd_Amt_max', 'Fraud_Indicator']\n",
    "df = df[partB_feat]\n",
    "\n",
    "# Convert the categorical features to numeric code\n",
    "df['Rndrng_Prvdr_Type'] = df['Rndrng_Prvdr_Type'].astype('category').cat.codes\n",
    "df['Rndrng_Prvdr_Gndr'] = df['Rndrng_Prvdr_Gndr'].astype('category').cat.codes\n",
    "print(df.shape)"
   ]
  },
  {
   "cell_type": "markdown",
   "id": "a716969b",
   "metadata": {},
   "source": [
    "### 2. Split the data to a train set (used for cross validation) and a test set (holdout)"
   ]
  },
  {
   "cell_type": "code",
   "execution_count": 2,
   "id": "45e688da",
   "metadata": {},
   "outputs": [],
   "source": [
    "import random\n",
    "\n",
    "random.seed(42)\n",
    "holdout_rate = 0.1\n",
    "\n",
    "# get a holdout set by unique NPI, preventing from data leakage\n",
    "uniq_id = df.Rndrng_NPI.unique()\n",
    "holdout_set = random.sample(list(uniq_id), int(len(uniq_id)*holdout_rate))\n",
    "train_set = list(set(uniq_id) - set(holdout_set))\n",
    "\n",
    "train=df.query(\"`Rndrng_NPI` in @train_set\")\n",
    "holdout=df.query(\"`Rndrng_NPI` in @holdout_set\")\n",
    "\n",
    "train_X = train.drop(columns=['Rndrng_NPI', 'Fraud_Indicator'])\n",
    "train_y = train.Fraud_Indicator\n",
    "\n",
    "test_X = holdout.drop(columns=['Rndrng_NPI', 'Fraud_Indicator'])\n",
    "test_y = holdout.Fraud_Indicator\n",
    "\n",
    "char_feat = ['Rndrng_Prvdr_Type', 'Rndrng_Prvdr_Gndr']\n",
    "num_feat = list(set(train_X.columns) - set(char_feat))"
   ]
  },
  {
   "cell_type": "markdown",
   "id": "14ef5b5b",
   "metadata": {},
   "source": [
    "### 3. build up a pipeline including evaluation"
   ]
  },
  {
   "cell_type": "code",
   "execution_count": 12,
   "id": "f28e0f30",
   "metadata": {
    "scrolled": false
   },
   "outputs": [],
   "source": [
    "from sklearn.linear_model import LogisticRegression\n",
    "from sklearn.model_selection import cross_val_score, StratifiedKFold\n",
    "from imblearn.pipeline import Pipeline\n",
    "from sklearn.impute import SimpleImputer\n",
    "from imblearn.over_sampling import SMOTE\n",
    "from imblearn.under_sampling import RandomUnderSampler\n",
    "from sklearn.preprocessing import OneHotEncoder, StandardScaler, MinMaxScaler\n",
    "from sklearn.compose import ColumnTransformer\n",
    "from sklearn.metrics import roc_auc_score, f1_score\n",
    "\n",
    "# define pipeline\n",
    "def smote_choose(scoring= None, oversample_rate = None, undersample_rate= None):\n",
    "    model = LogisticRegression(random_state=42, class_weight='balanced')\n",
    "\n",
    "    cleaner = ColumnTransformer(\n",
    "        transformers=[            \n",
    "            ('scaling', StandardScaler(), num_feat),\n",
    "            ('onehot', OneHotEncoder(sparse=False, handle_unknown='ignore'), char_feat)], remainder='drop')\n",
    "    \n",
    "    if (oversample_rate != None) & (undersample_rate != None):\n",
    "        over = SMOTE(sampling_strategy=oversample_rate, random_state=42)\n",
    "        under = RandomUnderSampler(sampling_strategy=undersample_rate, random_state=42)\n",
    "        steps = [('over', over), \n",
    "                 ('under', under), \n",
    "                 (\"cleaner\", cleaner),\n",
    "                 ('model', model)]\n",
    "        \n",
    "    elif (oversample_rate != None) & (undersample_rate == None):\n",
    "        over = SMOTE(sampling_strategy=oversample_rate, random_state=42)\n",
    "        steps = [('over', over),\n",
    "                 (\"cleaner\", cleaner),\n",
    "                 ('model', model)]    \n",
    "        \n",
    "    elif (oversample_rate== None) & (undersample_rate != None):\n",
    "        under = RandomUnderSampler(sampling_strategy=undersample_rate, random_state=42)\n",
    "        steps = [('under', under), \n",
    "                 (\"cleaner\", cleaner),\n",
    "                 ('model', model)]     \n",
    "        \n",
    "    elif (oversample_rate== None) & (undersample_rate == None):\n",
    "        steps = [(\"cleaner\", cleaner),\n",
    "                 ('model', model)]\n",
    "        \n",
    "    pipe = Pipeline(steps=steps)\n",
    "\n",
    "\n",
    "    skf = StratifiedKFold(n_splits=5, random_state=42, shuffle=True)\n",
    "\n",
    "    if scoring == 'roc_auc':\n",
    "        scores = cross_val_score(pipe, train_X, train_y, scoring = scoring, cv=skf, n_jobs=-1)\n",
    "        fitted_pipe=pipe.fit(train_X, train_y)\n",
    "        val_auc = roc_auc_score(test_y, fitted_pipe.predict_proba(test_X)[:, 1])\n",
    "        return round(np.nanmean(scores), 4), round(np.nanstd(scores), 5), round(val_auc, 4), fitted_pipe\n",
    "    \n",
    "    if scoring != 'roc_auc':\n",
    "        if scoring == 'binary':\n",
    "            scores = cross_val_score(pipe, train_X, train_y, scoring = 'f1', cv=skf, n_jobs=-1)\n",
    "        else:\n",
    "            scores = cross_val_score(pipe, train_X, train_y, scoring = f'f1_{scoring}', cv=skf, n_jobs=-1)\n",
    "        fitted_pipe=pipe.fit(train_X, train_y)\n",
    "        f1 = f1_score(test_y, fitted_pipe.predict(test_X), average= scoring)\n",
    "        return round(np.nanmean(scores), 4), round(np.nanstd(scores), 5), round(f1, 4), fitted_pipe"
   ]
  },
  {
   "cell_type": "markdown",
   "id": "ee513d4a",
   "metadata": {},
   "source": [
    "### 4. Output the roc_auc score - (Train set mean score, Train set score standard deviation, Test score)"
   ]
  },
  {
   "cell_type": "code",
   "execution_count": 51,
   "id": "e54b3955",
   "metadata": {
    "scrolled": false
   },
   "outputs": [
    {
     "name": "stdout",
     "output_type": "stream",
     "text": [
      "(0.7069, 0.01093, 0.7094)\n"
     ]
    }
   ],
   "source": [
    "# First oversample to 1/10 of the majority labels, then undersample the majority label to  \n",
    "# THen setting desired ratio (1/2) of the number of samples in the minority class \n",
    "# over the number of samples in the majority class after resampling\n",
    "logreg_0 = smote_choose('roc_auc', 0.1, 0.5)\n",
    "print(logreg_0[:3])\n",
    "fitted_pipe0 = logreg_0[3]"
   ]
  },
  {
   "cell_type": "code",
   "execution_count": 52,
   "id": "2a40df25",
   "metadata": {},
   "outputs": [
    {
     "name": "stdout",
     "output_type": "stream",
     "text": [
      "(0.7065, 0.01021, 0.7096)\n"
     ]
    }
   ],
   "source": [
    "# oversample the minority to 1/10 of the majority labels\n",
    "logreg_1 = smote_choose('roc_auc', 0.1, None)\n",
    "print(logreg_1[:3])\n",
    "fitted_pipe1 = logreg_1[3]"
   ]
  },
  {
   "cell_type": "code",
   "execution_count": 13,
   "id": "3c40726b",
   "metadata": {},
   "outputs": [
    {
     "name": "stdout",
     "output_type": "stream",
     "text": [
      "(0.7057, 0.01058, 0.707)\n"
     ]
    }
   ],
   "source": [
    "# oversample the minority to 1/2 of the majority labels\n",
    "logreg_2 = smote_choose('roc_auc', 0.5, None)\n",
    "print(logreg_2[:3])\n",
    "fitted_pipe2 = logreg_2[3]"
   ]
  },
  {
   "cell_type": "code",
   "execution_count": 14,
   "id": "44b184a7",
   "metadata": {
    "scrolled": true
   },
   "outputs": [
    {
     "name": "stdout",
     "output_type": "stream",
     "text": [
      "(0.7048, 0.01065, 0.7065)\n"
     ]
    }
   ],
   "source": [
    "# oversample the minority labels to the same amount (1:1) of the majority labels\n",
    "logreg_3 = smote_choose('roc_auc', 1, None)\n",
    "print(logreg_3[:3])\n",
    "fitted_pipe3 = logreg_3[3]"
   ]
  },
  {
   "cell_type": "code",
   "execution_count": 55,
   "id": "1aa4de08",
   "metadata": {},
   "outputs": [
    {
     "name": "stdout",
     "output_type": "stream",
     "text": [
      "(0.7796, 0.0116, 0.7809)\n"
     ]
    }
   ],
   "source": [
    "# No oversampling nor undersampling\n",
    "logreg_4 = smote_choose('roc_auc', None, None)\n",
    "print(logreg_4[:3])\n",
    "fitted_pipe4 = logreg_4[3]"
   ]
  },
  {
   "cell_type": "code",
   "execution_count": 56,
   "id": "0b40165b",
   "metadata": {},
   "outputs": [
    {
     "name": "stdout",
     "output_type": "stream",
     "text": [
      "(0.7065, 0.01028, 0.7096)\n"
     ]
    }
   ],
   "source": [
    "# First oversample to 1/10 of the majority labels, then undersample the majority label to  \n",
    "# THen setting desired ratio (1/10) of the number of samples in the minority class \n",
    "# over the number of samples in the majority class after resampling\n",
    "logreg_5 = smote_choose('roc_auc', 0.1, 0.1)\n",
    "print(logreg_5[:3])\n",
    "fitted_pipe5 = logreg_5[3]"
   ]
  },
  {
   "cell_type": "code",
   "execution_count": 57,
   "id": "76f15ed6",
   "metadata": {
    "scrolled": true
   },
   "outputs": [
    {
     "name": "stdout",
     "output_type": "stream",
     "text": [
      "(0.7071, 0.01074, 0.7087)\n"
     ]
    }
   ],
   "source": [
    "# First oversample to 1/10 of the majority labels, then undersample the majority label to  \n",
    "# THen setting desired ratio (1/4) of the number of samples in the minority class \n",
    "# over the number of samples in the majority class after resampling\n",
    "logreg_6 = smote_choose('roc_auc', 0.1, 0.25)\n",
    "print(logreg_6[:3])\n",
    "fitted_pipe6 = logreg_6[3]"
   ]
  },
  {
   "cell_type": "code",
   "execution_count": 58,
   "id": "e4c7adc7",
   "metadata": {},
   "outputs": [
    {
     "name": "stdout",
     "output_type": "stream",
     "text": [
      "(0.7818, 0.01045, 0.7855)\n"
     ]
    }
   ],
   "source": [
    "# undersample the majority/minority labels to ratio 10:1\n",
    "logreg_7 = smote_choose('roc_auc', None, 0.1)\n",
    "print(logreg_7[:3])\n",
    "fitted_pipe7 = logreg_7[3]"
   ]
  },
  {
   "cell_type": "code",
   "execution_count": 59,
   "id": "0c688b54",
   "metadata": {},
   "outputs": [
    {
     "name": "stdout",
     "output_type": "stream",
     "text": [
      "(0.782, 0.00997, 0.7836)\n"
     ]
    }
   ],
   "source": [
    "# undersample the majority/minority labels to ratio 4:1\n",
    "logreg_8 = smote_choose('roc_auc', None, 0.25)\n",
    "print(logreg_8[:3])\n",
    "fitted_pipe8 = logreg_8[3]"
   ]
  },
  {
   "cell_type": "code",
   "execution_count": 60,
   "id": "223d848c",
   "metadata": {},
   "outputs": [
    {
     "name": "stdout",
     "output_type": "stream",
     "text": [
      "(0.7804, 0.01061, 0.783)\n"
     ]
    }
   ],
   "source": [
    "# undersample the majority/minority labels to ratio 2:1\n",
    "logreg_9 = smote_choose('roc_auc', None, 0.5)\n",
    "print(logreg_9[:3])\n",
    "fitted_pipe9 = logreg_9[3]"
   ]
  },
  {
   "cell_type": "code",
   "execution_count": 15,
   "id": "9d6f5adf",
   "metadata": {
    "scrolled": true
   },
   "outputs": [
    {
     "name": "stdout",
     "output_type": "stream",
     "text": [
      "(0.7799, 0.01023, 0.778)\n"
     ]
    }
   ],
   "source": [
    "# undersample the majority/minority labels to ratio 1:1\n",
    "logreg_10 = smote_choose('roc_auc', None, 1)\n",
    "print(logreg_10[:3])\n",
    "fitted_pipe10 = logreg_10[3]"
   ]
  }
 ],
 "metadata": {
  "kernelspec": {
   "display_name": "Python 3 (ipykernel)",
   "language": "python",
   "name": "python3"
  },
  "language_info": {
   "codemirror_mode": {
    "name": "ipython",
    "version": 3
   },
   "file_extension": ".py",
   "mimetype": "text/x-python",
   "name": "python",
   "nbconvert_exporter": "python",
   "pygments_lexer": "ipython3",
   "version": "3.10.9"
  }
 },
 "nbformat": 4,
 "nbformat_minor": 5
}
