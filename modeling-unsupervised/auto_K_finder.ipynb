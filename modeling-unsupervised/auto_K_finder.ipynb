{
 "cells": [
  {
   "cell_type": "code",
   "execution_count": 1,
   "metadata": {},
   "outputs": [],
   "source": [
    "from sklearn.cluster import MiniBatchKMeans,KMeans\n",
    "from matplotlib import pyplot as plt\n",
    "\n",
    "def find_best_k(data, max_k):\n",
    "    inertias = []\n",
    "    for k in range(1, max_k+1):\n",
    "        kmeans = KMeans(n_clusters=k, random_state=42)\n",
    "        kmeans.fit(data)\n",
    "        inertias.append(kmeans.inertia_)\n",
    "        \n",
    "    # Calculate the second derivative of the inertia values\n",
    "    second_derivatives = np.gradient(np.gradient(inertias))\n",
    "    \n",
    "    # Find the optimal K based on the second derivative (max curvature)\n",
    "    optimal_k = np.argmax(second_derivatives) + 1\n",
    "    \n",
    "    # Plot the Elbow curve to visualize the inertia values\n",
    "    plt.plot(range(1, max_k+1), inertias, marker='o')\n",
    "    plt.xlabel('Number of Clusters (K)')\n",
    "    plt.ylabel('Inertia')\n",
    "    plt.title('Elbow Method to Find Optimal K')\n",
    "    plt.show()\n",
    "    \n",
    "    return optimal_k"
   ]
  }
 ],
 "metadata": {
  "kernelspec": {
   "display_name": "SKY_Y",
   "language": "python",
   "name": "python3"
  },
  "language_info": {
   "codemirror_mode": {
    "name": "ipython",
    "version": 3
   },
   "file_extension": ".py",
   "mimetype": "text/x-python",
   "name": "python",
   "nbconvert_exporter": "python",
   "pygments_lexer": "ipython3",
   "version": "3.7.16"
  },
  "orig_nbformat": 4
 },
 "nbformat": 4,
 "nbformat_minor": 2
}
