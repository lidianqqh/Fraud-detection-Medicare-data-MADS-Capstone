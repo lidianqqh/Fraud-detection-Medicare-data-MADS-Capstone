{
 "cells": [
  {
   "cell_type": "markdown",
   "id": "2be34f55",
   "metadata": {},
   "source": [
    "### 1. Read in the enriched PartB data for year 2013 & 2014"
   ]
  },
  {
   "cell_type": "code",
   "execution_count": 1,
   "id": "ce95ca97",
   "metadata": {
    "scrolled": false
   },
   "outputs": [
    {
     "name": "stdout",
     "output_type": "stream",
     "text": [
      "2550\n",
      "(1847558, 89)\n"
     ]
    }
   ],
   "source": [
    "import pandas as pd\n",
    "import numpy as np\n",
    "import sklearn\n",
    "import random\n",
    "import cloudpickle\n",
    "import os \n",
    "import warnings\n",
    "warnings.filterwarnings('ignore')\n",
    "\n",
    "parent = os.path.dirname(os.getcwd())\n",
    "df = pd.read_csv(parent + '/Capstone_project/data/year2013_2014_combined_with_labels.csv')\n",
    "df.fillna(0, inplace=True)\n",
    "\n",
    "print(sum(df.Fraud_Indicator ==1))\n",
    "\n",
    "df['Rndrng_Prvdr_Type'] = df['Rndrng_Prvdr_Type'].astype('category').cat.codes\n",
    "df['Rndrng_Prvdr_Gndr'] = df['Rndrng_Prvdr_Gndr'].astype('category').cat.codes\n",
    "df['Rndrng_Prvdr_Mdcr_Prtcptg_Ind'] = df['Rndrng_Prvdr_Mdcr_Prtcptg_Ind'].astype('category').cat.codes\n",
    "\n",
    "print(df.shape)"
   ]
  },
  {
   "cell_type": "markdown",
   "id": "0e44afbc",
   "metadata": {},
   "source": [
    "### 2. Split the data to a train set (used for cross validation) and a test set (holdout)"
   ]
  },
  {
   "cell_type": "code",
   "execution_count": 2,
   "id": "cec82d05",
   "metadata": {},
   "outputs": [
    {
     "name": "stdout",
     "output_type": "stream",
     "text": [
      "(1662708, 86) (184850, 86)\n"
     ]
    }
   ],
   "source": [
    "# split out the holdout data by Rndrng_NPI to avoid data leakage\n",
    "random.seed(42)\n",
    "holdout_rate = 0.1\n",
    "\n",
    "uniq_id = df.Rndrng_NPI.unique()\n",
    "holdout_set = random.sample(list(uniq_id), int(len(uniq_id)*holdout_rate))\n",
    "train_set = list(set(uniq_id) - set(holdout_set))\n",
    "\n",
    "train=df.query(\"`Rndrng_NPI` in @train_set\")\n",
    "holdout=df.query(\"`Rndrng_NPI` in @holdout_set\")\n",
    "\n",
    "train_X = train.drop(columns=['Rndrng_NPI', 'Fraud_Indicator','YEAR'])\n",
    "train_y = train.Fraud_Indicator\n",
    "\n",
    "test_X = holdout.drop(columns=['Rndrng_NPI', 'Fraud_Indicator','YEAR'])\n",
    "test_y = holdout.Fraud_Indicator\n",
    "\n",
    "print(train_X.shape, test_X.shape)"
   ]
  },
  {
   "cell_type": "markdown",
   "id": "66798c7b",
   "metadata": {},
   "source": [
    "### 3. Build up a pipeline including evaluation"
   ]
  },
  {
   "cell_type": "code",
   "execution_count": 4,
   "id": "181e17d6",
   "metadata": {},
   "outputs": [],
   "source": [
    "from imblearn.pipeline import Pipeline\n",
    "from imblearn.over_sampling import SMOTE\n",
    "from imblearn.under_sampling import RandomUnderSampler\n",
    "from sklearn.ensemble import RandomForestClassifier\n",
    "from xgboost import XGBClassifier\n",
    "from sklearn.model_selection import train_test_split, StratifiedKFold, GridSearchCV, cross_val_score\n",
    "from sklearn.preprocessing import OneHotEncoder, StandardScaler, MinMaxScaler\n",
    "from sklearn.metrics import roc_auc_score, f1_score\n",
    "from sklearn.metrics import confusion_matrix\n",
    "import seaborn as sns\n",
    "import matplotlib.pyplot as plt\n",
    "\n",
    "# define pipeline\n",
    "def Xgboost_roc_auc_eval(undersample_rate= None, weight = None):\n",
    "    \n",
    "    xgb = XGBClassifier(seed = 42, nthread=-1, scale_pos_weight=weight)\n",
    "    \n",
    "    if undersample_rate == None:\n",
    "        steps = [('scaler', StandardScaler()),\n",
    "                 ('xgb', xgb)]\n",
    "        \n",
    "    elif undersample_rate != None:\n",
    "        under = RandomUnderSampler(sampling_strategy=undersample_rate, random_state =42)\n",
    "        steps = [('under', under), \n",
    "                 ('scaler', StandardScaler()),\n",
    "                 ('xgb', xgb)]     \n",
    "\n",
    "        \n",
    "    pipeline = Pipeline(steps=steps)\n",
    "\n",
    "    skf = StratifiedKFold(n_splits=5, random_state=42, shuffle=True)\n",
    "\n",
    "    param_grid = {'xgb__max_depth':[2, 5, 10, 20, 50, 100],\n",
    "                  'xgb__n_estimators':[500],\n",
    "                  'xgb__learning_rate': [0.01, 0.02, 0.05, 0.1],\n",
    "                  'xgb__colsample_bytree': [0.5, 0.8, 1],\n",
    "                  'xgb__colsample_bylevel': [0.5, 0.8, 1],\n",
    "                  'xgb__subsample': [0.5, 0.8, 1],\n",
    "                  }\n",
    "\n",
    "    \n",
    "    grid_pipe = GridSearchCV(estimator = pipeline, \n",
    "                             param_grid = param_grid, \n",
    "                             scoring= 'roc_auc', \n",
    "                             n_jobs =-1,\n",
    "                             cv = skf,\n",
    "                             verbose = 1)\n",
    "    \n",
    "    grid_result = grid_pipe.fit(train_X, train_y)\n",
    "    print('Best Score: ', grid_result.best_score_)\n",
    "    print('Best Params: ', grid_result.best_params_)\n",
    "    \n",
    "\n",
    "    scores = cross_val_score(grid_result.best_estimator_, train_X, train_y, scoring = 'roc_auc', cv=skf, n_jobs=-1)\n",
    "    print('Mean ROC AUC: %.3f' % np.mean(scores), \n",
    "          'SD ROC AUC: %.4f' % np.std(scores))\n",
    "    \n",
    "    val_auc = roc_auc_score(test_y, grid_result.best_estimator_.predict_proba(test_X)[:, 1])\n",
    "    print('Test set ROC AUC  %.3f' % val_auc)\n",
    "    return round(np.mean(scores), 4), round(np.std(scores), 5), round(val_auc, 4), grid_result.best_estimator_\n",
    "\n",
    "def plot_confusion_matrix(estimator, test_X, test_y):\n",
    "    # Create the NumPy array for actual and predicted labels.\n",
    "    actual    = test_y\n",
    "    predicted = estimator.predict(test_X)\n",
    "\n",
    "    # compute the confusion matrix.\n",
    "    cm = confusion_matrix(actual, predicted)\n",
    "\n",
    "    # Plot the confusion matrix.\n",
    "    sns.heatmap(cm,\n",
    "                annot=True,\n",
    "                fmt='g',\n",
    "                xticklabels=['Non-Fraud','Fraud'],\n",
    "                yticklabels=['Non-Fraud','Fraud'])\n",
    "    plt.ylabel('Actual',fontsize=15)\n",
    "    plt.xlabel('Prediction',fontsize=15)\n",
    "    plt.title('Confusion Matrix', fontsize=17)\n",
    "    return plt.show()"
   ]
  },
  {
   "cell_type": "code",
   "execution_count": 5,
   "id": "dd78a2bb",
   "metadata": {
    "scrolled": true
   },
   "outputs": [
    {
     "name": "stdout",
     "output_type": "stream",
     "text": [
      "Fitting 5 folds for each of 648 candidates, totalling 3240 fits\n",
      "Best Score:  0.8883425543771948\n",
      "Best Params:  {'xgb__colsample_bylevel': 0.8, 'xgb__colsample_bytree': 0.8, 'xgb__learning_rate': 0.05, 'xgb__max_depth': 20, 'xgb__n_estimators': 500, 'xgb__subsample': 0.8}\n",
      "Mean ROC AUC: 0.888 SD ROC AUC: 0.0076\n",
      "Test set ROC AUC  0.813\n",
      "(0.8883, 0.00757, 0.8128)\n"
     ]
    },
    {
     "ename": "TypeError",
     "evalue": "plot_confusion_matrix() missing 2 required positional arguments: 'test_X' and 'test_y'",
     "output_type": "error",
     "traceback": [
      "\u001b[0;31m---------------------------------------------------------------------------\u001b[0m",
      "\u001b[0;31mTypeError\u001b[0m                                 Traceback (most recent call last)",
      "\u001b[0;32m/tmp/ipykernel_819582/461553094.py\u001b[0m in \u001b[0;36m<module>\u001b[0;34m\u001b[0m\n\u001b[1;32m      3\u001b[0m \u001b[0mprint\u001b[0m\u001b[0;34m(\u001b[0m\u001b[0mxgb_1\u001b[0m\u001b[0;34m[\u001b[0m\u001b[0;34m:\u001b[0m\u001b[0;36m3\u001b[0m\u001b[0;34m]\u001b[0m\u001b[0;34m)\u001b[0m\u001b[0;34m\u001b[0m\u001b[0;34m\u001b[0m\u001b[0m\n\u001b[1;32m      4\u001b[0m \u001b[0mxgb_pipe1\u001b[0m \u001b[0;34m=\u001b[0m \u001b[0mxgb_1\u001b[0m\u001b[0;34m[\u001b[0m\u001b[0;36m3\u001b[0m\u001b[0;34m]\u001b[0m\u001b[0;34m\u001b[0m\u001b[0;34m\u001b[0m\u001b[0m\n\u001b[0;32m----> 5\u001b[0;31m \u001b[0mplot_confusion_matrix\u001b[0m\u001b[0;34m(\u001b[0m\u001b[0mxgb_pipe1\u001b[0m\u001b[0;34m)\u001b[0m\u001b[0;34m\u001b[0m\u001b[0;34m\u001b[0m\u001b[0m\n\u001b[0m\u001b[1;32m      6\u001b[0m \u001b[0;34m\u001b[0m\u001b[0m\n\u001b[1;32m      7\u001b[0m \u001b[0mcloudpickle\u001b[0m\u001b[0;34m.\u001b[0m\u001b[0mdump\u001b[0m\u001b[0;34m(\u001b[0m\u001b[0mxgb_pipe1\u001b[0m\u001b[0;34m,\u001b[0m \u001b[0mopen\u001b[0m\u001b[0;34m(\u001b[0m\u001b[0;34m'xgb_pipe1.cloudpickle'\u001b[0m\u001b[0;34m,\u001b[0m\u001b[0;34m'wb'\u001b[0m\u001b[0;34m)\u001b[0m\u001b[0;34m)\u001b[0m\u001b[0;34m\u001b[0m\u001b[0;34m\u001b[0m\u001b[0m\n",
      "\u001b[0;31mTypeError\u001b[0m: plot_confusion_matrix() missing 2 required positional arguments: 'test_X' and 'test_y'"
     ]
    }
   ],
   "source": [
    "# undersample the majority/minority labels to ratio 10:1\n",
    "xgb_1 = Xgboost_roc_auc_eval(0.1, 10)\n",
    "print(xgb_1[:3])\n",
    "xgb_pipe1 = xgb_1[3]\n",
    "plot_confusion_matrix(xgb_pipe1, test_X, test_y)\n",
    "\n",
    "cloudpickle.dump(xgb_pipe1, open('xgb_pipe1.cloudpickle','wb'))"
   ]
  },
  {
   "cell_type": "code",
   "execution_count": 6,
   "id": "a4a04e62",
   "metadata": {},
   "outputs": [
    {
     "data": {
      "image/png": "[encoded data removed]",
      "text/plain": [
       "<Figure size 432x288 with 2 Axes>"
      ]
     },
     "metadata": {
      "needs_background": "light"
     },
     "output_type": "display_data"
    }
   ],
   "source": [
    "plot_confusion_matrix(xgb_pipe1, test_X, test_y)\n",
    "\n",
    "cloudpickle.dump(xgb_pipe1, open('xgb_pipe1.cloudpickle','wb'))"
   ]
  },
  {
   "cell_type": "code",
   "execution_count": 7,
   "id": "9b3182d8",
   "metadata": {},
   "outputs": [
    {
     "name": "stdout",
     "output_type": "stream",
     "text": [
      "Fitting 5 folds for each of 648 candidates, totalling 3240 fits\n",
      "Best Score:  0.8815193117770438\n",
      "Best Params:  {'xgb__colsample_bylevel': 0.8, 'xgb__colsample_bytree': 0.8, 'xgb__learning_rate': 0.02, 'xgb__max_depth': 20, 'xgb__n_estimators': 500, 'xgb__subsample': 0.8}\n",
      "Mean ROC AUC: 0.882 SD ROC AUC: 0.0062\n",
      "Test set ROC AUC  0.813\n",
      "(0.8815, 0.00625, 0.8128)\n"
     ]
    },
    {
     "data": {
      "image/png": "[encoded data removed]",
      "text/plain": [
       "<Figure size 432x288 with 2 Axes>"
      ]
     },
     "metadata": {
      "needs_background": "light"
     },
     "output_type": "display_data"
    }
   ],
   "source": [
    "# undersample the majority/minority labels to ratio 4:1 (80:20)\n",
    "xgb_2 = Xgboost_roc_auc_eval(0.25, 4)\n",
    "print(xgb_2[:3])\n",
    "xgb_pipe2 = xgb_2[3]\n",
    "plot_confusion_matrix(xgb_pipe2, test_X, test_y)\n",
    "\n",
    "cloudpickle.dump(xgb_pipe2, open('xgb_pipe2.cloudpickle','wb'))"
   ]
  },
  {
   "cell_type": "code",
   "execution_count": 8,
   "id": "b9cbb554",
   "metadata": {},
   "outputs": [
    {
     "name": "stdout",
     "output_type": "stream",
     "text": [
      "Fitting 5 folds for each of 648 candidates, totalling 3240 fits\n",
      "Best Score:  0.8731405061173202\n",
      "Best Params:  {'xgb__colsample_bylevel': 0.8, 'xgb__colsample_bytree': 0.5, 'xgb__learning_rate': 0.05, 'xgb__max_depth': 20, 'xgb__n_estimators': 500, 'xgb__subsample': 0.8}\n",
      "Mean ROC AUC: 0.873 SD ROC AUC: 0.0051\n",
      "Test set ROC AUC  0.822\n",
      "(0.8731, 0.00513, 0.822)\n"
     ]
    },
    {
     "data": {
      "image/png": "[encoded data removed]",
      "text/plain": [
       "<Figure size 432x288 with 2 Axes>"
      ]
     },
     "metadata": {
      "needs_background": "light"
     },
     "output_type": "display_data"
    }
   ],
   "source": [
    "# undersample the majority/minority labels to ratio 2:1\n",
    "xgb_3 = Xgboost_roc_auc_eval(0.5, 2)\n",
    "print(xgb_3[:3])\n",
    "xgb_pipe3 = xgb_3[3]\n",
    "plot_confusion_matrix(xgb_pipe3, test_X, test_y)\n",
    "\n",
    "cloudpickle.dump(xgb_pipe3, open('xgb_pipe3.cloudpickle','wb'))"
   ]
  },
  {
   "cell_type": "code",
   "execution_count": null,
   "id": "edd7161f",
   "metadata": {
    "scrolled": true
   },
   "outputs": [
    {
     "name": "stdout",
     "output_type": "stream",
     "text": [
      "Fitting 5 folds for each of 648 candidates, totalling 3240 fits\n"
     ]
    }
   ],
   "source": [
    "# undersample the majority/minority labels to ratio 1:1\n",
    "xgb_4 = Xgboost_roc_auc_eval(1, 1)\n",
    "print(xgb_4[:3])\n",
    "xgb_pipe4 = xgb_4[3]\n",
    "plot_confusion_matrix(xgb_pipe4, test_X, test_y)\n",
    "\n",
    "cloudpickle.dump(xgb_pipe4, open('xgb_pipe4.cloudpickle','wb'))"
   ]
  }
 ],
 "metadata": {
  "kernelspec": {
   "display_name": "Python 3 (ipykernel)",
   "language": "python",
   "name": "python3"
  },
  "language_info": {
   "codemirror_mode": {
    "name": "ipython",
    "version": 3
   },
   "file_extension": ".py",
   "mimetype": "text/x-python",
   "name": "python",
   "nbconvert_exporter": "python",
   "pygments_lexer": "ipython3",
   "version": "3.10.9"
  }
 },
 "nbformat": 4,
 "nbformat_minor": 5
}
