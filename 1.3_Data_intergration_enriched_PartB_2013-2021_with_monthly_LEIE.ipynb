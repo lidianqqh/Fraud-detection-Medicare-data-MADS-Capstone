{
 "cells": [
  {
   "cell_type": "markdown",
   "id": "7236b6f3",
   "metadata": {},
   "source": [
    "### 1. Import libraries and initiate folder locations"
   ]
  },
  {
   "cell_type": "code",
   "execution_count": 22,
   "id": "bafbfdc7",
   "metadata": {
    "scrolled": true
   },
   "outputs": [
    {
     "data": {
      "text/plain": [
       "'C:\\\\Users\\\\dianli\\\\OneDrive - Takeda\\\\Desktop\\\\MADS\\\\Capstone'"
      ]
     },
     "execution_count": 22,
     "metadata": {},
     "output_type": "execute_result"
    }
   ],
   "source": [
    "from simpledbf import Dbf5\n",
    "import pandas as pd\n",
    "import numpy as np\n",
    "import os \n",
    "from dateutil.relativedelta import relativedelta\n",
    "import warnings\n",
    "warnings.filterwarnings(\"ignore\")\n",
    "parent = os.path.dirname(os.getcwd())\n",
    "parent"
   ]
  },
  {
   "cell_type": "markdown",
   "id": "6581a4fe",
   "metadata": {},
   "source": [
    "### 2. Load and stack up the exclusion datasets from 4 parts, then remove the duplicates: \n",
    "  1) All exclusion data collected up to 2012 Dec.\n",
    "  2) The monthly exclusion data collected from 2013 Jan to 2023 June\n",
    "  3) All exclusion data collected up to 2023 Jan\n",
    "  4) All exclusion data collected up to now"
   ]
  },
  {
   "cell_type": "code",
   "execution_count": 40,
   "id": "5481f7cd",
   "metadata": {},
   "outputs": [
    {
     "name": "stdout",
     "output_type": "stream",
     "text": [
      "(162245, 18)\n",
      "['1128b4' '1128a4' '1128a1' '1128a3' '1128b14' '1128a2' '1128b5' '1128b7'\n",
      " '1128b1' '1128b3' '1128b2' 'BRCH SA' '1128Aa' '1128b15' '1156' '1128b6'\n",
      " '1128b12' '1128b16' '1128b11' '1160' 'BRCH CIA' '1128b8' nan]\n"
     ]
    },
    {
     "data": {
      "text/plain": [
       "Index(['LASTNAME', 'FIRSTNAME', 'MIDNAME', 'BUSNAME', 'GENERAL', 'SPECIALTY',\n",
       "       'UPIN', 'DOB', 'ADDRESS', 'CITY', 'STATE', 'ZIP', 'EXCLTYPE',\n",
       "       'EXCLDATE', 'REINDATE', 'NPI', 'WAIVERDATE', 'WVRSTATE'],\n",
       "      dtype='object')"
      ]
     },
     "execution_count": 40,
     "metadata": {},
     "output_type": "execute_result"
    }
   ],
   "source": [
    "df1212 = Dbf5(parent + '\\\\CMS_datasets\\\\labels\\\\UPDATED_2012_12.DBF', codec='utf-8').to_dataframe()\n",
    "# The exclusion data from 2013 Jan to 2023 June\n",
    "df1323 = pd.read_csv(parent + '\\\\CMS_datasets\\\\data\\\\LEIE\\\\all_exclusion_providers_from_2013_to_2023.csv',\n",
    "                     encoding = \"utf-8\").drop(columns='Unnamed: 0')\n",
    "df2301 = pd.read_csv(parent + '\\\\CMS_datasets\\\\labels\\\\UPDATED_2023.csv',encoding = \"utf-8\", low_memory=False)\n",
    "df_latest = pd.read_csv(parent + '\\\\CMS_datasets\\\\labels\\\\UPDATED.csv',encoding = \"utf-8\", low_memory=False)\n",
    "\n",
    "dfs = [df1212, df1323, df2301, df_latest]\n",
    "leie = pd.concat(dfs, axis=0)\n",
    "leie = leie.sort_values(by=['LASTNAME','FIRSTNAME','MIDNAME','BUSNAME','GENERAL','SPECIALTY',\n",
    "                             'ADDRESS','CITY','STATE','ZIP','EXCLTYPE','EXCLDATE','NPI'])\\\n",
    "            .drop_duplicates(subset=['LASTNAME','FIRSTNAME','MIDNAME','BUSNAME','GENERAL','SPECIALTY',\n",
    "                                     'ADDRESS','CITY','STATE','ZIP','EXCLTYPE','EXCLDATE'], keep='last')\n",
    "\n",
    "print(leie.shape)\n",
    "\n",
    "leie.loc[(leie['NPI'].isna()),'NPI'] = 0\n",
    "leie['NPI'] = leie['NPI'].astype('int64')\n",
    "leie['ZIP'] = leie['ZIP'].astype('int64')\n",
    "leie['EXCLTYPE'] = leie['EXCLTYPE'].str.strip()\n",
    "leie['EXCLDATE'] = leie['EXCLDATE'].astype(str)\n",
    "leie['REINDATE'] = leie['REINDATE'].astype(str)\n",
    "leie['WAIVERDATE'] = leie['WAIVERDATE'].astype(str)\n",
    "\n",
    "fillvals = {'LASTNAME': '', 'FIRSTNAME': '', 'MIDNAME': '', 'BUSNAME': ''}\n",
    "leie.fillna(value=fillvals, inplace=True)\n",
    "\n",
    "print(leie['EXCLTYPE'].unique())\n",
    "leie.columns"
   ]
  },
  {
   "cell_type": "markdown",
   "id": "53df67fa",
   "metadata": {},
   "source": [
    "### 3. Read in reinstate dataset from 2013 to 2023\n",
    "The data prior to 2013 was not collected because those data does not have NPI for merging, also the other variables are not as standard and consistant formed as the year on and after 2013. It won't bother our analysis because our Medicare data starts from year 2013."
   ]
  },
  {
   "cell_type": "code",
   "execution_count": 41,
   "id": "eb481eea",
   "metadata": {},
   "outputs": [
    {
     "name": "stdout",
     "output_type": "stream",
     "text": [
      "(162251, 20)\n"
     ]
    },
    {
     "data": {
      "text/plain": [
       "2617"
      ]
     },
     "execution_count": 41,
     "metadata": {},
     "output_type": "execute_result"
    }
   ],
   "source": [
    "rein_data = pd.read_csv(parent + '\\\\CMS_datasets\\\\data\\\\LEIE\\\\all_reinstate_providers_from_2013_to_2023.csv',\n",
    "                        encoding = \"utf-8\").drop(columns=['Unnamed: 0','WAIVERDATE','WVRSTATE','DOB','UPIN'])\n",
    "\n",
    "# rein_data['ZIP'] = rein_data['ZIP'].astype(str)\n",
    "rein_data['EXCLDATE'] = rein_data['EXCLDATE'].astype(str)\n",
    "rein_data['REINDATE'] = rein_data['REINDATE'].astype(str)\n",
    "rein_data.fillna(value=fillvals, inplace=True)\n",
    "\n",
    "leie_new1 = leie.merge(rein_data[['EXCLTYPE','EXCLDATE','NPI','REINDATE']][rein_data.NPI>0].rename(columns={'REINDATE': 'REINDATE_1'}),\n",
    "                       how='left', on =['EXCLTYPE','EXCLDATE','NPI'])\n",
    "\n",
    "merge_cols = ['LASTNAME','FIRSTNAME','MIDNAME','BUSNAME','GENERAL','SPECIALTY','ZIP','EXCLTYPE','EXCLDATE']\n",
    "leie_new2 = leie_new1.merge(rein_data[merge_cols + ['REINDATE']][rein_data.NPI==0].rename(columns={'REINDATE': 'REINDATE_2'}),\n",
    "                            how='left', on = merge_cols)\n",
    "\n",
    "leie_new2.loc[leie_new2.REINDATE_1.notna(), 'REINDATE'] = leie_new2['REINDATE_1']\n",
    "leie_new2.loc[leie_new2.REINDATE_2.notna(), 'REINDATE'] = leie_new2['REINDATE_2']\n",
    "leie_new2.loc[leie_new2['REINDATE'].str[0]=='0', 'REINDATE'] = ''\n",
    "print(leie_new2.shape)\n",
    "\n",
    "# Check the number of available reinstate dates we fetched\n",
    "leie_new2[(leie_new2['REINDATE_1'].notna()) | (leie_new2['REINDATE_2'].notna())].shape[0]"
   ]
  },
  {
   "attachments": {
    "image.png": {
     "image/png": "[encoded data removed]"
    }
   },
   "cell_type": "markdown",
   "id": "134f63af",
   "metadata": {},
   "source": [
    "### 4. Based on the fraud definition and research papers, we only treat below 7 exclusion types as fraud:\n",
    "\n",
    "![image.png](attachment:image.png)\n",
    "Reference: Big Data fraud detection using multiple medicare data sources https://doi.org/10.1186/s40537-018-0138-"
   ]
  },
  {
   "cell_type": "code",
   "execution_count": 42,
   "id": "5d96a0d0",
   "metadata": {},
   "outputs": [
    {
     "name": "stdout",
     "output_type": "stream",
     "text": [
      "(142401, 20)\n"
     ]
    }
   ],
   "source": [
    "leie = leie_new2.copy()\n",
    "exclusion_type = ['1128a1', '1128a2', '1128a3', '1128b4', '1128b7', '1128c3gi', '1128c3gii']\n",
    "leie['EXCLTYPE'] = leie['EXCLTYPE'].str.strip()\n",
    "leie = leie[leie['EXCLTYPE'].isin(exclusion_type)]\n",
    "print(leie.shape)\n",
    "\n",
    "leie['exclusion_start_date'] = pd.to_datetime(leie['EXCLDATE'], format='%Y%m%d', errors='coerce')\n",
    "leie['waiver_start_date'] = pd.to_datetime(leie['WAIVERDATE'], format='%Y%m%d', errors='coerce')\n",
    "leie['reinstate_date'] = pd.to_datetime(leie['REINDATE'], format='%Y%m%d', errors='coerce')\n",
    "leie.dtypes;"
   ]
  },
  {
   "cell_type": "markdown",
   "id": "42663881",
   "metadata": {},
   "source": [
    "### 5. The definition of final exclusion end date and 6-month rule to define the exclusion end year\n",
    "The LEIE gives specific dates (month/day/year) for when the exclusion starts and the length of the minimum exclusion period. We used the earliest date between the exclusion end date (based on minimum exclusion period summed with start date), waiver, and reinstatement date. \\\n",
    "In order to best handle the disparity between the annual and monthly dates, we round the new exclusion end date to the nearest year based on the month. If the end exclusion month is greater than 6 (majority of the year), then the exclusion end year is increased to the following year; otherwise, the current year is used.\\\n",
    "Reference: Big Data fraud detection using multiple medicare data sources https://doi.org/10.1186/s40537-018-0138-3"
   ]
  },
  {
   "cell_type": "code",
   "execution_count": 43,
   "id": "eaf9ec02",
   "metadata": {},
   "outputs": [
    {
     "data": {
      "text/plain": [
       "(142401, 26)"
      ]
     },
     "execution_count": 43,
     "metadata": {},
     "output_type": "execute_result"
    }
   ],
   "source": [
    "# mandatory assign 10 years if unspecify - any resinstate or waviver dates can overwrite the exclusion duration\n",
    "min_exclusion_period_mapping = { \n",
    "    '1128a1': 5,      # Conviction of program-related crimes.(Minimum 5 years)\n",
    "    '1128a2': 5,      # Conviction relating to patient abuse or neglect. (Minimum 5 years)\n",
    "    '1128a3': 5,      # Felony conviction relating to health care fraud. (Minimum 5 years)\n",
    "    '1128b4': 10,    # License revocation, suspension, or surrender. Assign 10-year by default if no resinstate or waviver \n",
    "    '1128b7': 10,    # Fraud, kickbacks, and other prohibited activities. Assign 10-year by default if no resinstate or waviver \n",
    "    '1128c3gi': 10,   # Conviction of second mandatory exclusion offense. (Minimum 10 years)\n",
    "    '1128c3gii': 100  # Conviction of third or more mandatory exclusion offenses. (Permanent Exclusion - assign 100 years)\n",
    "}\n",
    "\n",
    "\n",
    "leie['EXCLTYPE'].map(min_exclusion_period_mapping).dtypes\n",
    "leie['min_exclusion_period'] = leie['EXCLTYPE'].map(min_exclusion_period_mapping)\n",
    "leie['exclusion_end_date'] = leie['exclusion_start_date'] + \\\n",
    "                             leie['min_exclusion_period'].apply(lambda y: relativedelta(years = y)) \n",
    "\n",
    "# get the earliest date between the exclusion end date, waiver date and reinstatement date As-->\n",
    "# the Final Exclusion End Date, which will be used to compare with the Medicare claim data collection year\n",
    "leie['exclusion_end_date'] = np.min(leie[['exclusion_end_date', 'waiver_start_date','reinstate_date']], axis=1)\n",
    "\n",
    "# Apply the 6-month rule - add one year if the date is greater than month 6:\n",
    "leie['exclusion_end_year'] = np.where(leie['exclusion_end_date'].dt.month>6, \n",
    "                                      leie['exclusion_end_date'].dt.year + 1,\n",
    "                                      leie['exclusion_end_date'].dt.year)\n",
    "leie.shape"
   ]
  },
  {
   "cell_type": "markdown",
   "id": "ab260521",
   "metadata": {},
   "source": [
    "### 6. Split the leie dataset to leie with available NPI and leie without NPI\n",
    "  - leie with NPI (npi_leie) will be merge with PartB dataset with NPI\n",
    "  - leie without NPI (nonpi_leie) will be merged with PartB dataset with LASTNAME,FIRSTNAME and ZIP (to enrich the labels)."
   ]
  },
  {
   "cell_type": "code",
   "execution_count": 44,
   "id": "b1ee3302",
   "metadata": {},
   "outputs": [
    {
     "name": "stdout",
     "output_type": "stream",
     "text": [
      "(132196, 6) (10205, 26)\n"
     ]
    }
   ],
   "source": [
    "npi_leie = leie[leie['NPI']>0]\n",
    "npi_leie.rename({'NPI':'Rndrng_NPI'}, axis=1, inplace=True)\n",
    "\n",
    "nonpi_leie = leie[leie['NPI']==0]\n",
    "nonpi_leie.loc[nonpi_leie.BUSNAME!='', 'LASTNAME'] = nonpi_leie['BUSNAME']\n",
    "nonpi_leie['ZIP']=nonpi_leie['ZIP'].astype(str)\n",
    "nonpi_leie[nonpi_leie.BUSNAME!=''].head()\n",
    "nonpi_leie = nonpi_leie[['LASTNAME','FIRSTNAME','ZIP','exclusion_start_date','exclusion_end_date','exclusion_end_year']]\n",
    "\n",
    "print(nonpi_leie.shape, npi_leie.shape)"
   ]
  },
  {
   "cell_type": "markdown",
   "id": "aa659b2a",
   "metadata": {},
   "source": [
    "### 7. Load and combine Part B data from year 2013 to 2021"
   ]
  },
  {
   "cell_type": "code",
   "execution_count": 46,
   "id": "c42ac272",
   "metadata": {
    "scrolled": false
   },
   "outputs": [
    {
     "name": "stdout",
     "output_type": "stream",
     "text": [
      "(87099660, 30)\n"
     ]
    }
   ],
   "source": [
    "partb13 = '\\\\CMS_datasets\\\\PartB\\\\MUP_PHY_R19_P04_V10_D13_Prov_Svc.csv'\n",
    "partb14 = '\\\\CMS_datasets\\\\PartB\\\\MUP_PHY_R19_P04_V10_D14_Prov_Svc.csv'\n",
    "partb15 = '\\\\CMS_datasets\\\\PartB\\\\MUP_PHY_R19_P04_V10_D15_Prov_Svc.csv'\n",
    "partb16 = '\\\\CMS_datasets\\\\PartB\\\\MUP_PHY_R19_P04_V10_D16_Prov_Svc.csv'\n",
    "partb17 = '\\\\CMS_datasets\\\\PartB\\\\MUP_PHY_R19_P04_V10_D17_Prov_Svc.csv'\n",
    "partb18 = '\\\\CMS_datasets\\\\PartB\\\\MUP_PHY_R20_P04_V10_D18_Prov_Svc.csv'\n",
    "partb19 = '\\\\CMS_datasets\\\\PartB\\\\MUP_PHY_R21_P04_V10_D19_Prov_Svc.csv'\n",
    "partb20 = '\\\\CMS_datasets\\\\PartB\\\\MUP_PHY_R22_P05_V10_D20_Prov_Svc.csv'\n",
    "partb21 = '\\\\CMS_datasets\\\\PartB\\\\MUP_PHY_R23_P05_V10_D21_Prov_Svc.csv'\n",
    "\n",
    "df_b13 = pd.read_csv(parent + partb13, encoding = \"ISO-8859-1\", low_memory=False)\n",
    "df_b13['YEAR'] = 2013\n",
    "df_b14 = pd.read_csv(parent + partb14, encoding = \"ISO-8859-1\", low_memory=False)\n",
    "df_b14['YEAR'] = 2014\n",
    "df_b15 = pd.read_csv(parent + partb15, encoding = \"ISO-8859-1\", low_memory=False)\n",
    "df_b15['YEAR'] = 2015\n",
    "df_b16 = pd.read_csv(parent + partb16, encoding = \"ISO-8859-1\", low_memory=False)\n",
    "df_b16['YEAR'] = 2016\n",
    "df_b17 = pd.read_csv(parent + partb17, encoding = \"ISO-8859-1\", low_memory=False)\n",
    "df_b17['YEAR'] = 2017\n",
    "df_b18 = pd.read_csv(parent + partb18, encoding = \"ISO-8859-1\", low_memory=False)\n",
    "df_b18['YEAR'] = 2018\n",
    "df_b19 = pd.read_csv(parent + partb19, encoding = \"ISO-8859-1\", low_memory=False)\n",
    "df_b19['YEAR'] = 2019\n",
    "df_b20 = pd.read_csv(parent + partb20, encoding = \"ISO-8859-1\", low_memory=False)\n",
    "df_b20['YEAR'] = 2020\n",
    "df_b21 = pd.read_csv(parent + partb21, encoding = \"ISO-8859-1\", low_memory=False)\n",
    "df_b21['YEAR'] = 2021\n",
    "\n",
    "df_partb = pd.concat([df_b13, df_b14, df_b15, df_b16, df_b17, df_b18, df_b19, df_b20, df_b21], axis=0)\n",
    "print(df_partb.shape)\n",
    "del [df_b13, df_b14, df_b15, df_b16, df_b17, df_b18, df_b19, df_b20, df_b21]"
   ]
  },
  {
   "cell_type": "markdown",
   "id": "c385f6ca",
   "metadata": {},
   "source": [
    "### 8. Aggregate the Part B data by provider attributes to minimize the instances and increase the numeric features (expand to 6 summary statistics for each original feature)"
   ]
  },
  {
   "cell_type": "code",
   "execution_count": 49,
   "id": "cb7f4919",
   "metadata": {},
   "outputs": [],
   "source": [
    "partb_feats = ['Rndrng_NPI', 'HCPCS_Cd', 'HCPCS_Desc', 'HCPCS_Drug_Ind', 'Rndrng_Prvdr_Type',\n",
    "                'Rndrng_Prvdr_Last_Org_Name', 'Rndrng_Prvdr_First_Name','Rndrng_Prvdr_Zip5',\n",
    "               'Rndrng_Prvdr_Gndr', 'Tot_Srvcs', 'Tot_Benes', 'Tot_Bene_Day_Srvcs', \n",
    "               'Avg_Sbmtd_Chrg', 'Avg_Mdcr_Alowd_Amt','Avg_Mdcr_Pymt_Amt', 'Avg_Mdcr_Stdzd_Amt']\n",
    "\n",
    "df_partb = df_partb[partb_feats + ['YEAR']]\n",
    "df_partb = df_partb[df_partb['HCPCS_Drug_Ind']=='N']\n",
    "df_partb.loc[df_partb.Rndrng_Prvdr_Gndr.isna(), 'Rndrng_Prvdr_Gndr'] = 'U'\n",
    "df_partb['Rndrng_Prvdr_Last_Org_Name'] = df_partb['Rndrng_Prvdr_Last_Org_Name'].str.upper()\n",
    "df_partb['Rndrng_Prvdr_First_Name'] = df_partb['Rndrng_Prvdr_First_Name'].str.upper()\n",
    "df_partb.loc[df_partb.Rndrng_Prvdr_Last_Org_Name.isna(), 'Rndrng_Prvdr_Last_Org_Name'] =''\n",
    "df_partb.loc[df_partb.Rndrng_Prvdr_First_Name.isna(), 'Rndrng_Prvdr_First_Name'] =''\n",
    "df_partb.loc[df_partb.Rndrng_Prvdr_Zip5.isna(), 'Rndrng_Prvdr_Zip5'] =''\n",
    "\n",
    "\n",
    "df_partb_agg = df_partb.groupby(['Rndrng_NPI','Rndrng_Prvdr_Type',\n",
    "                             'Rndrng_Prvdr_Last_Org_Name', 'Rndrng_Prvdr_First_Name','Rndrng_Prvdr_Zip5',\n",
    "                             'Rndrng_Prvdr_Gndr', 'YEAR']).\\\n",
    "                        agg({'Tot_Srvcs':['sum', 'mean', 'median', np.std, 'min', 'max'],\n",
    "                             'Tot_Benes':['sum', 'mean', 'median', np.std, 'min', 'max'],\n",
    "                             'Tot_Bene_Day_Srvcs':['sum', 'mean', 'median', np.std, 'min', 'max'],\n",
    "                             'Avg_Sbmtd_Chrg': ['sum', 'mean', 'median', np.std, 'min', 'max'],\n",
    "                             'Avg_Mdcr_Pymt_Amt': ['sum', 'mean', 'median', np.std, 'min', 'max'],\n",
    "                             'Avg_Mdcr_Stdzd_Amt': ['sum', 'mean', 'median', np.std, 'min', 'max']})\n",
    "df_partb_agg.columns = ['_'.join(col) for col in df_partb_agg.columns.values]\n",
    "df_partb_agg = df_partb_agg.fillna(0).reset_index()\n",
    "df_partb_agg.shape\n",
    "\n",
    "del df_partb"
   ]
  },
  {
   "cell_type": "markdown",
   "id": "372ea35f",
   "metadata": {},
   "source": [
    "### 9. Merge the updated LEIE data with Part B data to label the Fraudulent providers"
   ]
  },
  {
   "cell_type": "code",
   "execution_count": 50,
   "id": "52dcc895",
   "metadata": {},
   "outputs": [
    {
     "name": "stdout",
     "output_type": "stream",
     "text": [
      "(9211236, 46)\n",
      "(5952, 46)\n",
      "(9211236, 49)\n",
      "(6173, 49)\n",
      "0.0006435618412121892\n",
      "0    9205308\n",
      "1       5928\n",
      "Name: Fraud_Indicator, dtype: int64\n"
     ]
    },
    {
     "data": {
      "text/plain": [
       "6173"
      ]
     },
     "execution_count": 50,
     "metadata": {},
     "output_type": "execute_result"
    }
   ],
   "source": [
    "# merge partB data with NPI-available leie by NPI\n",
    "df_partb_agg = df_partb_agg \\\n",
    "       .merge(npi_leie[['Rndrng_NPI','exclusion_start_date','exclusion_end_date','exclusion_end_year']].drop_duplicates(),\n",
    "                        how='left', on='Rndrng_NPI')\n",
    "print(df_partb_agg.shape)\n",
    "print(df_partb_agg[df_partb_agg.exclusion_end_year.notna()].shape)\n",
    "\n",
    "# For the PartB data with missing exclusion_end_year after the merging in last step, \n",
    "# merge it with no-NPI leie by LastName, FirstName and Zipcode to include more exclusion data\n",
    "df_partb_agg2 = df_partb_agg[df_partb_agg.exclusion_end_year.isna()]\\\n",
    "                           .drop(columns=['exclusion_start_date','exclusion_end_date','exclusion_end_year'])\\\n",
    "                           .merge(nonpi_leie.drop_duplicates(), how='left',\n",
    "                                  left_on=['Rndrng_Prvdr_Last_Org_Name','Rndrng_Prvdr_First_Name','Rndrng_Prvdr_Zip5'],\n",
    "                                  right_on=['LASTNAME','FIRSTNAME','ZIP'])\n",
    "\n",
    "df_partb_all = pd.concat([df_partb_agg[df_partb_agg.exclusion_end_year.notna()], \n",
    "                          df_partb_agg2], axis=0)\n",
    "\n",
    "print(df_partb_all.shape)\n",
    "print(df_partb_all[df_partb_all.exclusion_end_year.notna()].shape)\n",
    "\n",
    "# Assign fraud labels at the column Fraud_Indicator\n",
    "df_partb_all['Fraud_Indicator'] = np.where(df_partb_all['exclusion_end_year']>df_partb_all['YEAR'], 1, 0)\n",
    "\n",
    "print(np.sum(df_partb_all['Fraud_Indicator']==1)/df_partb_all.shape[0])\n",
    "print(df_partb_all['Fraud_Indicator'].value_counts())\n",
    "df_partb_all.exclusion_start_date.notna().sum()"
   ]
  },
  {
   "cell_type": "markdown",
   "id": "b8a5e13d",
   "metadata": {},
   "source": [
    "### 10. Load and concatenate Part B Summary by Provider datasets from year 2013 to 2021"
   ]
  },
  {
   "cell_type": "code",
   "execution_count": 52,
   "id": "3a1f5e76",
   "metadata": {},
   "outputs": [
    {
     "data": {
      "text/plain": [
       "(9742558, 74)"
      ]
     },
     "execution_count": 52,
     "metadata": {},
     "output_type": "execute_result"
    }
   ],
   "source": [
    "pbp13 = '\\\\CMS_datasets\\\\PartB\\\\by_provider\\\\MUP_PHY_R19_P04_V10_D13_Prov.csv'\n",
    "pbp14 = '\\\\CMS_datasets\\\\PartB\\\\by_provider\\\\MUP_PHY_R19_P04_V10_D14_Prov.csv'\n",
    "pbp15 = '\\\\CMS_datasets\\\\PartB\\\\by_provider\\\\MUP_PHY_R19_P04_V10_D15_Prov.csv'\n",
    "pbp16 = '\\\\CMS_datasets\\\\PartB\\\\by_provider\\\\MUP_PHY_R19_P04_V10_D16_Prov.csv'\n",
    "pbp17 = '\\\\CMS_datasets\\\\PartB\\\\by_provider\\\\MUP_PHY_R19_P04_V10_D17_Prov.csv'\n",
    "pbp18 = '\\\\CMS_datasets\\\\PartB\\\\by_provider\\\\MUP_PHY_R20_P04_V10_D18_Prov.csv'\n",
    "pbp19 = '\\\\CMS_datasets\\\\PartB\\\\by_provider\\\\MUP_PHY_R21_P04_V10_D19_Prov.csv'\n",
    "pbp20 = '\\\\CMS_datasets\\\\PartB\\\\by_provider\\\\MUP_PHY_R22_P05_V10_D20_Prov.csv'\n",
    "pbp21 = '\\\\CMS_datasets\\\\PartB\\\\by_provider\\\\MUP_PHY_R23_P05_V10_D21_Prov.csv'\n",
    "\n",
    "df_pbp13 = pd.read_csv(parent + pbp13, encoding = \"ISO-8859-1\", low_memory=False)\n",
    "df_pbp13['YEAR'] = 2013\n",
    "df_pbp14 = pd.read_csv(parent + pbp14, encoding = \"ISO-8859-1\", low_memory=False)\n",
    "df_pbp14['YEAR'] = 2014\n",
    "df_pbp15 = pd.read_csv(parent + pbp15, encoding = \"ISO-8859-1\", low_memory=False)\n",
    "df_pbp15['YEAR'] = 2015\n",
    "df_pbp16 = pd.read_csv(parent + pbp16, encoding = \"ISO-8859-1\", low_memory=False)\n",
    "df_pbp16['YEAR'] = 2016\n",
    "df_pbp17 = pd.read_csv(parent + pbp17, encoding = \"ISO-8859-1\", low_memory=False)\n",
    "df_pbp17['YEAR'] = 2017\n",
    "df_pbp18 = pd.read_csv(parent + pbp18, encoding = \"ISO-8859-1\", low_memory=False)\n",
    "df_pbp18['YEAR'] = 2018\n",
    "df_pbp19 = pd.read_csv(parent + pbp19, encoding = \"ISO-8859-1\", low_memory=False)\n",
    "df_pbp19['YEAR'] = 2019\n",
    "df_pbp20 = pd.read_csv(parent + pbp20, encoding = \"ISO-8859-1\", low_memory=False)\n",
    "df_pbp20['YEAR'] = 2020\n",
    "df_pbp21 = pd.read_csv(parent + pbp21, encoding = \"ISO-8859-1\", low_memory=False)\n",
    "df_pbp21['YEAR'] = 2021\n",
    "\n",
    "df_pbp = pd.concat([df_pbp13,df_pbp14,df_pbp15,df_pbp16,df_pbp17,df_pbp18,df_pbp19,df_pbp20,df_pbp21], axis=0)\n",
    "del [df_pbp13,df_pbp14,df_pbp15,df_pbp16,df_pbp17,df_pbp18,df_pbp19,df_pbp20,df_pbp21]\n",
    "df_pbp.shape"
   ]
  },
  {
   "cell_type": "markdown",
   "id": "4706fe01",
   "metadata": {},
   "source": [
    "### 11. Keep all below features in Part B Summary by Provider datasets, merging with aggregated Part B dataset\n",
    "Reference: Data‑Centric AI for Healthcare Fraud Detection https://doi.org/10.1007/s42979-023-01809-x"
   ]
  },
  {
   "cell_type": "code",
   "execution_count": 54,
   "id": "c7ea4744",
   "metadata": {},
   "outputs": [
    {
     "name": "stdout",
     "output_type": "stream",
     "text": [
      "(9211236, 98)\n",
      "0.0006435618412121892\n"
     ]
    },
    {
     "data": {
      "text/plain": [
       "0    9205308\n",
       "1       5928\n",
       "Name: Fraud_Indicator, dtype: int64"
      ]
     },
     "execution_count": 54,
     "metadata": {},
     "output_type": "execute_result"
    }
   ],
   "source": [
    "# Keep all below features \n",
    "pbp_feats = ['Rndrng_NPI', 'Rndrng_Prvdr_Mdcr_Prtcptg_Ind', 'Tot_HCPCS_Cds', 'Tot_Benes',\n",
    "       'Tot_Srvcs', 'Tot_Sbmtd_Chrg', 'Tot_Mdcr_Alowd_Amt',\n",
    "       'Tot_Mdcr_Pymt_Amt', 'Tot_Mdcr_Stdzd_Amt',\n",
    "       'Drug_Tot_HCPCS_Cds', 'Drug_Tot_Benes', 'Drug_Tot_Srvcs',\n",
    "       'Drug_Sbmtd_Chrg', 'Drug_Mdcr_Alowd_Amt', 'Drug_Mdcr_Pymt_Amt',\n",
    "       'Drug_Mdcr_Stdzd_Amt', 'Med_Tot_HCPCS_Cds',\n",
    "       'Med_Tot_Benes', 'Med_Tot_Srvcs', 'Med_Sbmtd_Chrg',\n",
    "       'Med_Mdcr_Alowd_Amt', 'Med_Mdcr_Pymt_Amt', 'Med_Mdcr_Stdzd_Amt',\n",
    "       'Bene_Avg_Age', 'Bene_Age_LT_65_Cnt', 'Bene_Age_65_74_Cnt',\n",
    "       'Bene_Age_75_84_Cnt', 'Bene_Age_GT_84_Cnt', 'Bene_Feml_Cnt',\n",
    "       'Bene_Male_Cnt', 'Bene_Dual_Cnt', 'Bene_Ndual_Cnt',\n",
    "       'Bene_CC_AF_Pct', 'Bene_CC_Alzhmr_Pct', 'Bene_CC_Asthma_Pct',\n",
    "       'Bene_CC_Cncr_Pct', 'Bene_CC_CHF_Pct', 'Bene_CC_CKD_Pct',\n",
    "       'Bene_CC_COPD_Pct', 'Bene_CC_Dprssn_Pct', 'Bene_CC_Dbts_Pct',\n",
    "       'Bene_CC_Hyplpdma_Pct', 'Bene_CC_Hyprtnsn_Pct', 'Bene_CC_IHD_Pct',\n",
    "       'Bene_CC_Opo_Pct', 'Bene_CC_RAOA_Pct', 'Bene_CC_Sz_Pct',\n",
    "       'Bene_CC_Strok_Pct', 'Bene_Avg_Risk_Scre']\n",
    "\n",
    "df_pbp = df_pbp[pbp_feats + ['YEAR']]\n",
    "\n",
    "df_partb_all = pd.merge(df_partb_all, df_pbp, how='left', on = ['Rndrng_NPI', 'YEAR'])\n",
    "print(df_partb_all.shape)\n",
    "print(np.sum(df_partb_all['Fraud_Indicator']==1)/df_partb_all.shape[0])\n",
    "df_partb_all.Fraud_Indicator.value_counts()"
   ]
  },
  {
   "cell_type": "code",
   "execution_count": 55,
   "id": "4d37d204",
   "metadata": {
    "scrolled": false
   },
   "outputs": [
    {
     "data": {
      "text/plain": [
       "array(['M', 'F', 'U'], dtype=object)"
      ]
     },
     "execution_count": 55,
     "metadata": {},
     "output_type": "execute_result"
    }
   ],
   "source": [
    "# Drop the feature that are from the leie dataset\n",
    "df_partb_all.groupby(['YEAR','Fraud_Indicator']).size().reset_index(name='Counts')\n",
    "cols_todrop = ['Rndrng_Prvdr_Last_Org_Name','Rndrng_Prvdr_First_Name', 'Rndrng_Prvdr_Zip5',\n",
    "              'exclusion_start_date', 'exclusion_end_date', 'exclusion_end_year','LASTNAME', 'FIRSTNAME', 'ZIP']\n",
    "\n",
    "df_partb_all = df_partb_all.drop(columns = cols_todrop)\n",
    "df_partb_all['Rndrng_Prvdr_Gndr'].unique()"
   ]
  },
  {
   "cell_type": "markdown",
   "id": "d859b749",
   "metadata": {},
   "source": [
    "### 12. Consolidate the provider types based on the most commonly used terms - reducing the total number of provider types from 131 to 102"
   ]
  },
  {
   "cell_type": "code",
   "execution_count": 58,
   "id": "9fcabff7",
   "metadata": {},
   "outputs": [
    {
     "name": "stdout",
     "output_type": "stream",
     "text": [
      "(9211236, 89)\n"
     ]
    },
    {
     "data": {
      "text/plain": [
       "102"
      ]
     },
     "execution_count": 58,
     "metadata": {},
     "output_type": "execute_result"
    }
   ],
   "source": [
    "set1 = set(df_partb_all[df_partb_all.YEAR==2020]['Rndrng_Prvdr_Type'].unique())\n",
    "set2 = set(df_partb_all['Rndrng_Prvdr_Type'].unique())\n",
    "set3 = set(df_partb_all[df_partb_all.YEAR==2021]['Rndrng_Prvdr_Type'].unique())\n",
    "\n",
    "# Manually Combine the provider types refering to the the provider types in year 2020, total number of types=102\n",
    "\n",
    "df_partb_all.loc[df_partb_all.Rndrng_Prvdr_Type == 'Allergy/Immunology', \n",
    "                 'Rndrng_Prvdr_Type'] = 'Allergy/ Immunology'\n",
    "df_partb_all.loc[df_partb_all.Rndrng_Prvdr_Type == 'Ambulance Service Supplier', \n",
    "                 'Rndrng_Prvdr_Type'] = 'Ambulance Service Provider'\n",
    "df_partb_all.loc[df_partb_all.Rndrng_Prvdr_Type == 'Anesthesiologist Assistants', \n",
    "                 'Rndrng_Prvdr_Type'] = 'Anesthesiology'\n",
    "df_partb_all.loc[df_partb_all.Rndrng_Prvdr_Type == 'Audiologist (billing independently)', \n",
    "                 'Rndrng_Prvdr_Type'] = 'Audiologist'\n",
    "df_partb_all.loc[df_partb_all.Rndrng_Prvdr_Type == 'CRNA', \n",
    "                 'Rndrng_Prvdr_Type'] = 'Certified Registered Nurse Anesthetist (CRNA)'\n",
    "df_partb_all.loc[df_partb_all.Rndrng_Prvdr_Type == 'Cardiac Electrophysiology', \n",
    "                 'Rndrng_Prvdr_Type'] = 'Clinical Cardiac Electrophysiology'\n",
    "df_partb_all.loc[df_partb_all.Rndrng_Prvdr_Type == 'Cardiovascular Disease (Cardiology)', \n",
    "                 'Rndrng_Prvdr_Type'] = 'Cardiology'\n",
    "df_partb_all.loc[df_partb_all.Rndrng_Prvdr_Type == 'Clinical Cardiatric Electrophysiology', \n",
    "                 'Rndrng_Prvdr_Type'] = 'Clinical Cardiac Electrophysiology'\n",
    "df_partb_all.loc[df_partb_all.Rndrng_Prvdr_Type == 'Clinical Psychologist', \n",
    "                 'Rndrng_Prvdr_Type'] = 'Psychologist, Clinical'\n",
    "df_partb_all.loc[df_partb_all.Rndrng_Prvdr_Type == 'Colorectal Surgery (formerly proctology)', \n",
    "                 'Rndrng_Prvdr_Type'] = 'Colorectal Surgery (Proctology)'\n",
    "df_partb_all.loc[df_partb_all.Rndrng_Prvdr_Type == 'Gynecological/Oncology', \n",
    "                 'Rndrng_Prvdr_Type'] = 'Gynecological Oncology'\n",
    "df_partb_all.loc[df_partb_all.Rndrng_Prvdr_Type == 'Hematology/Oncology', \n",
    "                 'Rndrng_Prvdr_Type'] = 'Hematology-Oncology'\n",
    "df_partb_all.loc[df_partb_all.Rndrng_Prvdr_Type == 'Home Infusion Therapy Services', \n",
    "                 'Rndrng_Prvdr_Type'] = 'All Other Suppliers'\n",
    "df_partb_all.loc[df_partb_all.Rndrng_Prvdr_Type == 'Independent Diagnostic Testing Facility', \n",
    "                 'Rndrng_Prvdr_Type'] = 'Independent Diagnostic Testing Facility (IDTF)'\n",
    "df_partb_all.loc[df_partb_all.Rndrng_Prvdr_Type == 'Mammographic Screening Center', \n",
    "                 'Rndrng_Prvdr_Type'] = 'Mammography Center'\n",
    "df_partb_all.loc[df_partb_all.Rndrng_Prvdr_Type == 'Mass Immunization Roster Biller', \n",
    "                 'Rndrng_Prvdr_Type'] = 'Mass Immunizer Roster Biller'\n",
    "df_partb_all.loc[df_partb_all.Rndrng_Prvdr_Type == 'Multispecialty Clinic/Group Practice', \n",
    "                 'Rndrng_Prvdr_Type'] = 'Clinic or Group Practice'\n",
    "df_partb_all.loc[df_partb_all.Rndrng_Prvdr_Type == 'Obstetrics/Gynecology', \n",
    "                 'Rndrng_Prvdr_Type'] = 'Obstetrics & Gynecology'\n",
    "df_partb_all.loc[df_partb_all.Rndrng_Prvdr_Type == 'Occupational therapist', \n",
    "                 'Rndrng_Prvdr_Type'] = 'Occupational Therapist in Private Practice'\n",
    "df_partb_all.loc[df_partb_all.Rndrng_Prvdr_Type == 'Oral Surgery (Dentists only)', \n",
    "                 'Rndrng_Prvdr_Type'] = 'Oral Surgery (Dentist only)'\n",
    "df_partb_all.loc[df_partb_all.Rndrng_Prvdr_Type == 'Oral Surgery (dentists only)', \n",
    "                 'Rndrng_Prvdr_Type'] = 'Oral Surgery (Dentist only)'\n",
    "df_partb_all.loc[df_partb_all.Rndrng_Prvdr_Type == 'Physical Therapist', \n",
    "                 'Rndrng_Prvdr_Type'] = 'Physical Therapist in Private Practice'\n",
    "df_partb_all.loc[df_partb_all.Rndrng_Prvdr_Type == 'Portable X-ray', \n",
    "                 'Rndrng_Prvdr_Type'] = 'Portable X-Ray Supplier'\n",
    "df_partb_all.loc[df_partb_all.Rndrng_Prvdr_Type == 'Psychologist (billing independently)', \n",
    "                 'Rndrng_Prvdr_Type'] = 'Psychologist, Clinical'\n",
    "df_partb_all.loc[df_partb_all.Rndrng_Prvdr_Type == 'Public Health Welfare Agency', \n",
    "                 'Rndrng_Prvdr_Type'] = 'Public Health or Welfare Agency'\n",
    "df_partb_all.loc[df_partb_all.Rndrng_Prvdr_Type == 'Radiation Therapy', \n",
    "                 'Rndrng_Prvdr_Type'] = 'Radiation Therapy Center'\n",
    "df_partb_all.loc[df_partb_all.Rndrng_Prvdr_Type == 'Registered Dietician/Nutrition Professional', \n",
    "                 'Rndrng_Prvdr_Type'] = 'Registered Dietitian or Nutrition Professional'\n",
    "df_partb_all.loc[df_partb_all.Rndrng_Prvdr_Type == 'Unknown Physician Specialty Code', \n",
    "                 'Rndrng_Prvdr_Type'] = 'Unknown Supplier/Provider Specialty'\n",
    "df_partb_all.loc[df_partb_all.Rndrng_Prvdr_Type == 'Unknown Supplier/Provider', \n",
    "                 'Rndrng_Prvdr_Type'] = 'Unknown Supplier/Provider Specialty'\n",
    "\n",
    "print(df_partb_all.shape)\n",
    "len(df_partb_all['Rndrng_Prvdr_Type'].unique())"
   ]
  },
  {
   "cell_type": "code",
   "execution_count": 61,
   "id": "e42d9b86",
   "metadata": {},
   "outputs": [
    {
     "name": "stdout",
     "output_type": "stream",
     "text": [
      "0.0013802002426987407\n"
     ]
    },
    {
     "data": {
      "text/plain": [
       "0    1845008\n",
       "1       2550\n",
       "Name: Fraud_Indicator, dtype: int64"
      ]
     },
     "execution_count": 61,
     "metadata": {},
     "output_type": "execute_result"
    }
   ],
   "source": [
    "print(df_partb_all[df_partb_all.YEAR.isin([2013,2014])].Fraud_Indicator.value_counts()[1]/df_partb_all[df_partb_all.YEAR.isin([2013,2014])].shape[0])\n",
    "df_partb_all[df_partb_all.YEAR.isin([2013,2014])].Fraud_Indicator.value_counts()"
   ]
  },
  {
   "cell_type": "code",
   "execution_count": 62,
   "id": "7a66dab8",
   "metadata": {},
   "outputs": [],
   "source": [
    "# Output to csv data for year 2013 & 2014, for all the year from 2013 to 2023, respectively\n",
    "df_partb_all[df_partb_all.YEAR.isin([2013,2014])].to_csv(parent + '\\\\CMS_datasets\\\\data\\\\year2013_2014_combined_with_labels.csv', index=False)\n",
    "df_partb_all.to_csv(parent + '\\\\CMS_datasets\\\\data\\\\year2013_to_2023_combined_with_labels.csv', index=False)"
   ]
  }
 ],
 "metadata": {
  "kernelspec": {
   "display_name": "Python 3 (ipykernel)",
   "language": "python",
   "name": "python3"
  },
  "language_info": {
   "codemirror_mode": {
    "name": "ipython",
    "version": 3
   },
   "file_extension": ".py",
   "mimetype": "text/x-python",
   "name": "python",
   "nbconvert_exporter": "python",
   "pygments_lexer": "ipython3",
   "version": "3.10.9"
  }
 },
 "nbformat": 4,
 "nbformat_minor": 5
}
