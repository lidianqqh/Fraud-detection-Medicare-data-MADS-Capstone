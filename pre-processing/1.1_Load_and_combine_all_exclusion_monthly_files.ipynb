{
 "cells": [
  {
   "cell_type": "markdown",
   "id": "5fd9117b",
   "metadata": {},
   "source": [
    "### 1. Load and combine all montly exclusion csv files under the folder '~/data/LEIE/all_exclu_from_2013'"
   ]
  },
  {
   "cell_type": "code",
   "execution_count": 1,
   "id": "002740c2",
   "metadata": {
    "scrolled": false
   },
   "outputs": [
    {
     "name": "stdout",
     "output_type": "stream",
     "text": [
      "(19759, 18)\n"
     ]
    }
   ],
   "source": [
    "import pandas as pd\n",
    "import os\n",
    "import glob\n",
    "# use glob to get all the csv files \n",
    "# in the folder\n",
    "parent = os.path.dirname(os.getcwd())\n",
    "\n",
    "path = parent + '\\\\CMS_datasets\\\\data\\\\LEIE\\\\all_exclu_from_2013'\n",
    "csv_files = glob.glob(os.path.join(path, \"*.csv\"))\n",
    "\n",
    "exclu_data = []\n",
    "# loop over the list of csv files\n",
    "for f in csv_files:\n",
    "    # read the csv file\n",
    "    exclu_data.append(pd.read_csv(f, encoding = \"utf-8\"))\n",
    "exclu_data = pd.concat(exclu_data)\n",
    "print(exclu_data.shape)"
   ]
  },
  {
   "cell_type": "markdown",
   "id": "0c51287b",
   "metadata": {},
   "source": [
    "### 2. Load and combine all montly exclusion dbf files in the subfolders starting with 'sanc' under same folder"
   ]
  },
  {
   "cell_type": "code",
   "execution_count": 2,
   "id": "8daaa506",
   "metadata": {},
   "outputs": [
    {
     "name": "stdout",
     "output_type": "stream",
     "text": [
      "(11183, 18)\n"
     ]
    }
   ],
   "source": [
    "from simpledbf import Dbf5\n",
    "path2 = parent + '\\\\CMS_datasets\\\\data\\\\LEIE\\\\all_exclu_from_2013\\\\sanc*'\n",
    "dbf_files = glob.glob(os.path.join(path2, \"*.DBF\"))\n",
    "exclu_data2 = pd.DataFrame()\n",
    "# loop over the list of csv files\n",
    "for f in dbf_files:\n",
    "    temp_df = Dbf5(f, codec='utf-8').to_dataframe()\n",
    "    temp_df.columns = temp_df.columns.str.strip()\n",
    "    exclu_data2 = pd.concat([temp_df, exclu_data2])\n",
    "\n",
    "exclu_data2.loc[(exclu_data2['NPI'].isna()) | (exclu_data2['NPI'].str[0]=='0'), 'NPI'] = '0'\n",
    "exclu_data2['NPI'] = exclu_data2['NPI'].astype('int64')\n",
    "exclu_data2['ZIP'] = exclu_data2['ZIP'].astype('int64')\n",
    "exclu_data2.loc[(exclu_data2['WAIVERDATE'].isna()) | (exclu_data2['WAIVERDATE'].str[0]=='0'), 'WAIVERDATE'] = '0'\n",
    "exclu_data2['WAIVERDATE'] = exclu_data2['WAIVERDATE'].astype('int64')\n",
    "exclu_data2['EXCLDATE'] = exclu_data2['EXCLDATE'].astype('int64')\n",
    "exclu_data2['REINDATE'] = exclu_data2['REINDATE'].astype('int64')\n",
    "\n",
    "print(exclu_data2.shape)"
   ]
  },
  {
   "cell_type": "markdown",
   "id": "85eb8279",
   "metadata": {},
   "source": [
    "### 3. Clean and concatenate exclusion monthly data, then output to a csv file"
   ]
  },
  {
   "cell_type": "code",
   "execution_count": 3,
   "id": "779db40b",
   "metadata": {
    "scrolled": false
   },
   "outputs": [
    {
     "name": "stdout",
     "output_type": "stream",
     "text": [
      "(30942, 18)\n"
     ]
    },
    {
     "data": {
      "text/html": [
       "<div>\n",
       "<style scoped>\n",
       "    .dataframe tbody tr th:only-of-type {\n",
       "        vertical-align: middle;\n",
       "    }\n",
       "\n",
       "    .dataframe tbody tr th {\n",
       "        vertical-align: top;\n",
       "    }\n",
       "\n",
       "    .dataframe thead th {\n",
       "        text-align: right;\n",
       "    }\n",
       "</style>\n",
       "<table border=\"1\" class=\"dataframe\">\n",
       "  <thead>\n",
       "    <tr style=\"text-align: right;\">\n",
       "      <th></th>\n",
       "      <th>LASTNAME</th>\n",
       "      <th>FIRSTNAME</th>\n",
       "      <th>MIDNAME</th>\n",
       "      <th>BUSNAME</th>\n",
       "      <th>GENERAL</th>\n",
       "      <th>SPECIALTY</th>\n",
       "      <th>UPIN</th>\n",
       "      <th>NPI</th>\n",
       "      <th>DOB</th>\n",
       "      <th>ADDRESS</th>\n",
       "      <th>CITY</th>\n",
       "      <th>STATE</th>\n",
       "      <th>ZIP</th>\n",
       "      <th>EXCLTYPE</th>\n",
       "      <th>EXCLDATE</th>\n",
       "      <th>REINDATE</th>\n",
       "      <th>WAIVERDATE</th>\n",
       "      <th>WVRSTATE</th>\n",
       "    </tr>\n",
       "  </thead>\n",
       "  <tbody>\n",
       "    <tr>\n",
       "      <th>0</th>\n",
       "      <td></td>\n",
       "      <td></td>\n",
       "      <td></td>\n",
       "      <td>AMERICAN SLEEP INSTITUTE</td>\n",
       "      <td>OTHER BUSINESS</td>\n",
       "      <td>CLINIC</td>\n",
       "      <td>NaN</td>\n",
       "      <td>1629125307</td>\n",
       "      <td>NaN</td>\n",
       "      <td>7150 W 20TH AVENUE, STE 510</td>\n",
       "      <td>HIALEAH</td>\n",
       "      <td>FL</td>\n",
       "      <td>33016</td>\n",
       "      <td>1128b7</td>\n",
       "      <td>20160115</td>\n",
       "      <td>0</td>\n",
       "      <td>0</td>\n",
       "      <td>NaN</td>\n",
       "    </tr>\n",
       "    <tr>\n",
       "      <th>1</th>\n",
       "      <td></td>\n",
       "      <td></td>\n",
       "      <td></td>\n",
       "      <td>AMERICAN THERAPEUTIC CORP</td>\n",
       "      <td>OTHER BUSINESS</td>\n",
       "      <td>CLINIC</td>\n",
       "      <td>NaN</td>\n",
       "      <td>1215968847</td>\n",
       "      <td>NaN</td>\n",
       "      <td>1801 NE 2ND AVENUE</td>\n",
       "      <td>MIAMI</td>\n",
       "      <td>FL</td>\n",
       "      <td>33132</td>\n",
       "      <td>1128b7</td>\n",
       "      <td>20160115</td>\n",
       "      <td>0</td>\n",
       "      <td>0</td>\n",
       "      <td>NaN</td>\n",
       "    </tr>\n",
       "    <tr>\n",
       "      <th>2</th>\n",
       "      <td></td>\n",
       "      <td></td>\n",
       "      <td></td>\n",
       "      <td>DENNIS B JAFFE, D M D, PC</td>\n",
       "      <td>OTHER BUSINESS</td>\n",
       "      <td>DENTAL PRACTICE</td>\n",
       "      <td>NaN</td>\n",
       "      <td>0</td>\n",
       "      <td>NaN</td>\n",
       "      <td>98 BROAD STREET, SW</td>\n",
       "      <td>ATLANTA</td>\n",
       "      <td>GA</td>\n",
       "      <td>30303</td>\n",
       "      <td>1128b8</td>\n",
       "      <td>20160218</td>\n",
       "      <td>0</td>\n",
       "      <td>0</td>\n",
       "      <td>NaN</td>\n",
       "    </tr>\n",
       "    <tr>\n",
       "      <th>3</th>\n",
       "      <td></td>\n",
       "      <td></td>\n",
       "      <td></td>\n",
       "      <td>MEDLINK PROFESSIONAL MANAGEMEN</td>\n",
       "      <td>OTHER BUSINESS</td>\n",
       "      <td>CLINIC</td>\n",
       "      <td>NaN</td>\n",
       "      <td>0</td>\n",
       "      <td>NaN</td>\n",
       "      <td>1809 NE 2ND AVENUE</td>\n",
       "      <td>MIAMI</td>\n",
       "      <td>FL</td>\n",
       "      <td>33132</td>\n",
       "      <td>1128b7</td>\n",
       "      <td>20160115</td>\n",
       "      <td>0</td>\n",
       "      <td>0</td>\n",
       "      <td>NaN</td>\n",
       "    </tr>\n",
       "    <tr>\n",
       "      <th>4</th>\n",
       "      <td></td>\n",
       "      <td></td>\n",
       "      <td></td>\n",
       "      <td>QUALITY HOME HEALTH CARE INC</td>\n",
       "      <td>OTHER BUSINESS</td>\n",
       "      <td>HOME HEALTH AGENCY</td>\n",
       "      <td>NaN</td>\n",
       "      <td>1427275718</td>\n",
       "      <td>NaN</td>\n",
       "      <td>810 CEDAR PARKWAY</td>\n",
       "      <td>SCHEREVILLE</td>\n",
       "      <td>IN</td>\n",
       "      <td>46375</td>\n",
       "      <td>1128b5</td>\n",
       "      <td>20160218</td>\n",
       "      <td>0</td>\n",
       "      <td>0</td>\n",
       "      <td>NaN</td>\n",
       "    </tr>\n",
       "  </tbody>\n",
       "</table>\n",
       "</div>"
      ],
      "text/plain": [
       "  LASTNAME FIRSTNAME MIDNAME                         BUSNAME         GENERAL  \\\n",
       "0                                   AMERICAN SLEEP INSTITUTE  OTHER BUSINESS   \n",
       "1                                  AMERICAN THERAPEUTIC CORP  OTHER BUSINESS   \n",
       "2                                  DENNIS B JAFFE, D M D, PC  OTHER BUSINESS   \n",
       "3                             MEDLINK PROFESSIONAL MANAGEMEN  OTHER BUSINESS   \n",
       "4                               QUALITY HOME HEALTH CARE INC  OTHER BUSINESS   \n",
       "\n",
       "            SPECIALTY UPIN         NPI  DOB                      ADDRESS  \\\n",
       "0              CLINIC  NaN  1629125307  NaN  7150 W 20TH AVENUE, STE 510   \n",
       "1              CLINIC  NaN  1215968847  NaN           1801 NE 2ND AVENUE   \n",
       "2     DENTAL PRACTICE  NaN           0  NaN          98 BROAD STREET, SW   \n",
       "3              CLINIC  NaN           0  NaN           1809 NE 2ND AVENUE   \n",
       "4  HOME HEALTH AGENCY  NaN  1427275718  NaN            810 CEDAR PARKWAY   \n",
       "\n",
       "          CITY STATE    ZIP EXCLTYPE  EXCLDATE  REINDATE  WAIVERDATE WVRSTATE  \n",
       "0      HIALEAH    FL  33016   1128b7  20160115         0           0      NaN  \n",
       "1        MIAMI    FL  33132   1128b7  20160115         0           0      NaN  \n",
       "2      ATLANTA    GA  30303   1128b8  20160218         0           0      NaN  \n",
       "3        MIAMI    FL  33132   1128b7  20160115         0           0      NaN  \n",
       "4  SCHEREVILLE    IN  46375   1128b5  20160218         0           0      NaN  "
      ]
     },
     "execution_count": 3,
     "metadata": {},
     "output_type": "execute_result"
    }
   ],
   "source": [
    "exclu_all = pd.concat([exclu_data, exclu_data2], axis=0).reset_index(drop=True)\n",
    "fillvals = {'LASTNAME': '', 'FIRSTNAME': '', 'MIDNAME': '', 'BUSNAME': ''}\n",
    "exclu_all.fillna(value=fillvals, inplace=True)\n",
    "exclu_all['LASTNAME'] = exclu_all['LASTNAME'].str.strip()\n",
    "exclu_all['FIRSTNAME'] = exclu_all['FIRSTNAME'].str.strip()\n",
    "exclu_all['MIDNAME'] = exclu_all['MIDNAME'].str.strip()\n",
    "exclu_all['BUSNAME'] = exclu_all['BUSNAME'].str.strip()\n",
    "\n",
    "exclu_all.to_csv(parent + '\\\\CMS_datasets\\\\data\\\\LEIE\\\\all_exclusion_providers_from_2013_to_2023.csv')\n",
    "print(exclu_all.shape)\n",
    "exclu_all.head()"
   ]
  }
 ],
 "metadata": {
  "kernelspec": {
   "display_name": "Python 3 (ipykernel)",
   "language": "python",
   "name": "python3"
  },
  "language_info": {
   "codemirror_mode": {
    "name": "ipython",
    "version": 3
   },
   "file_extension": ".py",
   "mimetype": "text/x-python",
   "name": "python",
   "nbconvert_exporter": "python",
   "pygments_lexer": "ipython3",
   "version": "3.10.9"
  }
 },
 "nbformat": 4,
 "nbformat_minor": 5
}
